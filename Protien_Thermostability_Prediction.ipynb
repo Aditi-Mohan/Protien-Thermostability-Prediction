{
  "cells": [
    {
      "cell_type": "markdown",
      "metadata": {
        "id": "U3wrIyVm_2X0"
      },
      "source": [
        "Name: Aditi Mohan<br/>\n",
        "Roll No: C067<br/>\n",
        "Batch: C1<br/>\n",
        "Div: C"
      ],
      "id": "U3wrIyVm_2X0"
    },
    {
      "cell_type": "markdown",
      "metadata": {
        "id": "m3ZeHjdI9oQW"
      },
      "source": [
        "# Problem Statement\n",
        "### Predict Thermostability of a protien sequence (enzyme)\n",
        "\n",
        "> **Enzymes** are proteins that act as catalysts in the chemical reactions of living organisms.\n",
        "\n",
        "> **Thermostability** is the quality of a substance to resist irreversible change in its chemical or physical structure\n",
        "\n",
        "Understanding and accurately predict protein stability is a fundamental problem in biotechnology. Its applications include enzyme engineering for addressing the world’s challenges in sustainability, carbon neutrality and more. Improvements to enzyme stability could lower costs and increase the speed scientists can iterate on concepts."
      ],
      "id": "m3ZeHjdI9oQW"
    },
    {
      "cell_type": "markdown",
      "metadata": {
        "id": "PRIoHlj_cm4X"
      },
      "source": [
        "# Imports"
      ],
      "id": "PRIoHlj_cm4X"
    },
    {
      "cell_type": "code",
      "execution_count": null,
      "metadata": {
        "colab": {
          "base_uri": "https://localhost:8080/"
        },
        "id": "wO_pEFhIc-jS",
        "outputId": "484fc408-49f6-409d-cc64-292964cc6b24"
      },
      "outputs": [
        {
          "name": "stdout",
          "output_type": "stream",
          "text": [
            "\u001b[?25l\r\u001b[K     |▍                               | 10 kB 22.3 MB/s eta 0:00:01\r\u001b[K     |▊                               | 20 kB 12.3 MB/s eta 0:00:01\r\u001b[K     |█▏                              | 30 kB 16.4 MB/s eta 0:00:01\r\u001b[K     |█▌                              | 40 kB 8.0 MB/s eta 0:00:01\r\u001b[K     |█▉                              | 51 kB 8.1 MB/s eta 0:00:01\r\u001b[K     |██▎                             | 61 kB 9.5 MB/s eta 0:00:01\r\u001b[K     |██▋                             | 71 kB 8.9 MB/s eta 0:00:01\r\u001b[K     |███                             | 81 kB 9.0 MB/s eta 0:00:01\r\u001b[K     |███▍                            | 92 kB 10.0 MB/s eta 0:00:01\r\u001b[K     |███▊                            | 102 kB 7.8 MB/s eta 0:00:01\r\u001b[K     |████                            | 112 kB 7.8 MB/s eta 0:00:01\r\u001b[K     |████▌                           | 122 kB 7.8 MB/s eta 0:00:01\r\u001b[K     |████▉                           | 133 kB 7.8 MB/s eta 0:00:01\r\u001b[K     |█████▏                          | 143 kB 7.8 MB/s eta 0:00:01\r\u001b[K     |█████▋                          | 153 kB 7.8 MB/s eta 0:00:01\r\u001b[K     |██████                          | 163 kB 7.8 MB/s eta 0:00:01\r\u001b[K     |██████▍                         | 174 kB 7.8 MB/s eta 0:00:01\r\u001b[K     |██████▊                         | 184 kB 7.8 MB/s eta 0:00:01\r\u001b[K     |███████                         | 194 kB 7.8 MB/s eta 0:00:01\r\u001b[K     |███████▌                        | 204 kB 7.8 MB/s eta 0:00:01\r\u001b[K     |███████▉                        | 215 kB 7.8 MB/s eta 0:00:01\r\u001b[K     |████████▏                       | 225 kB 7.8 MB/s eta 0:00:01\r\u001b[K     |████████▋                       | 235 kB 7.8 MB/s eta 0:00:01\r\u001b[K     |█████████                       | 245 kB 7.8 MB/s eta 0:00:01\r\u001b[K     |█████████▎                      | 256 kB 7.8 MB/s eta 0:00:01\r\u001b[K     |█████████▊                      | 266 kB 7.8 MB/s eta 0:00:01\r\u001b[K     |██████████                      | 276 kB 7.8 MB/s eta 0:00:01\r\u001b[K     |██████████▍                     | 286 kB 7.8 MB/s eta 0:00:01\r\u001b[K     |██████████▉                     | 296 kB 7.8 MB/s eta 0:00:01\r\u001b[K     |███████████▏                    | 307 kB 7.8 MB/s eta 0:00:01\r\u001b[K     |███████████▋                    | 317 kB 7.8 MB/s eta 0:00:01\r\u001b[K     |████████████                    | 327 kB 7.8 MB/s eta 0:00:01\r\u001b[K     |████████████▎                   | 337 kB 7.8 MB/s eta 0:00:01\r\u001b[K     |████████████▊                   | 348 kB 7.8 MB/s eta 0:00:01\r\u001b[K     |█████████████                   | 358 kB 7.8 MB/s eta 0:00:01\r\u001b[K     |█████████████▍                  | 368 kB 7.8 MB/s eta 0:00:01\r\u001b[K     |█████████████▉                  | 378 kB 7.8 MB/s eta 0:00:01\r\u001b[K     |██████████████▏                 | 389 kB 7.8 MB/s eta 0:00:01\r\u001b[K     |██████████████▌                 | 399 kB 7.8 MB/s eta 0:00:01\r\u001b[K     |███████████████                 | 409 kB 7.8 MB/s eta 0:00:01\r\u001b[K     |███████████████▎                | 419 kB 7.8 MB/s eta 0:00:01\r\u001b[K     |███████████████▋                | 430 kB 7.8 MB/s eta 0:00:01\r\u001b[K     |████████████████                | 440 kB 7.8 MB/s eta 0:00:01\r\u001b[K     |████████████████▍               | 450 kB 7.8 MB/s eta 0:00:01\r\u001b[K     |████████████████▊               | 460 kB 7.8 MB/s eta 0:00:01\r\u001b[K     |█████████████████▏              | 471 kB 7.8 MB/s eta 0:00:01\r\u001b[K     |█████████████████▌              | 481 kB 7.8 MB/s eta 0:00:01\r\u001b[K     |██████████████████              | 491 kB 7.8 MB/s eta 0:00:01\r\u001b[K     |██████████████████▎             | 501 kB 7.8 MB/s eta 0:00:01\r\u001b[K     |██████████████████▋             | 512 kB 7.8 MB/s eta 0:00:01\r\u001b[K     |███████████████████             | 522 kB 7.8 MB/s eta 0:00:01\r\u001b[K     |███████████████████▍            | 532 kB 7.8 MB/s eta 0:00:01\r\u001b[K     |███████████████████▊            | 542 kB 7.8 MB/s eta 0:00:01\r\u001b[K     |████████████████████▏           | 552 kB 7.8 MB/s eta 0:00:01\r\u001b[K     |████████████████████▌           | 563 kB 7.8 MB/s eta 0:00:01\r\u001b[K     |████████████████████▉           | 573 kB 7.8 MB/s eta 0:00:01\r\u001b[K     |█████████████████████▎          | 583 kB 7.8 MB/s eta 0:00:01\r\u001b[K     |█████████████████████▋          | 593 kB 7.8 MB/s eta 0:00:01\r\u001b[K     |██████████████████████          | 604 kB 7.8 MB/s eta 0:00:01\r\u001b[K     |██████████████████████▍         | 614 kB 7.8 MB/s eta 0:00:01\r\u001b[K     |██████████████████████▊         | 624 kB 7.8 MB/s eta 0:00:01\r\u001b[K     |███████████████████████▏        | 634 kB 7.8 MB/s eta 0:00:01\r\u001b[K     |███████████████████████▌        | 645 kB 7.8 MB/s eta 0:00:01\r\u001b[K     |███████████████████████▉        | 655 kB 7.8 MB/s eta 0:00:01\r\u001b[K     |████████████████████████▎       | 665 kB 7.8 MB/s eta 0:00:01\r\u001b[K     |████████████████████████▋       | 675 kB 7.8 MB/s eta 0:00:01\r\u001b[K     |█████████████████████████       | 686 kB 7.8 MB/s eta 0:00:01\r\u001b[K     |█████████████████████████▍      | 696 kB 7.8 MB/s eta 0:00:01\r\u001b[K     |█████████████████████████▊      | 706 kB 7.8 MB/s eta 0:00:01\r\u001b[K     |██████████████████████████      | 716 kB 7.8 MB/s eta 0:00:01\r\u001b[K     |██████████████████████████▌     | 727 kB 7.8 MB/s eta 0:00:01\r\u001b[K     |██████████████████████████▉     | 737 kB 7.8 MB/s eta 0:00:01\r\u001b[K     |███████████████████████████▏    | 747 kB 7.8 MB/s eta 0:00:01\r\u001b[K     |███████████████████████████▋    | 757 kB 7.8 MB/s eta 0:00:01\r\u001b[K     |████████████████████████████    | 768 kB 7.8 MB/s eta 0:00:01\r\u001b[K     |████████████████████████████▎   | 778 kB 7.8 MB/s eta 0:00:01\r\u001b[K     |████████████████████████████▊   | 788 kB 7.8 MB/s eta 0:00:01\r\u001b[K     |█████████████████████████████   | 798 kB 7.8 MB/s eta 0:00:01\r\u001b[K     |█████████████████████████████▌  | 808 kB 7.8 MB/s eta 0:00:01\r\u001b[K     |█████████████████████████████▉  | 819 kB 7.8 MB/s eta 0:00:01\r\u001b[K     |██████████████████████████████▏ | 829 kB 7.8 MB/s eta 0:00:01\r\u001b[K     |██████████████████████████████▋ | 839 kB 7.8 MB/s eta 0:00:01\r\u001b[K     |███████████████████████████████ | 849 kB 7.8 MB/s eta 0:00:01\r\u001b[K     |███████████████████████████████▎| 860 kB 7.8 MB/s eta 0:00:01\r\u001b[K     |███████████████████████████████▊| 870 kB 7.8 MB/s eta 0:00:01\r\u001b[K     |████████████████████████████████| 878 kB 7.8 MB/s \n",
            "\u001b[?25h"
          ]
        }
      ],
      "source": [
        "! pip install biopandas -q"
      ],
      "id": "wO_pEFhIc-jS"
    },
    {
      "cell_type": "code",
      "execution_count": null,
      "metadata": {
        "colab": {
          "base_uri": "https://localhost:8080/"
        },
        "id": "whnGcNl-kLKV",
        "outputId": "9a939dc5-06bb-4968-9d23-ab61b8f7b57a"
      },
      "outputs": [
        {
          "name": "stdout",
          "output_type": "stream",
          "text": [
            "Looking in indexes: https://pypi.org/simple, https://us-python.pkg.dev/colab-wheels/public/simple/\n",
            "Collecting python-Levenshtein\n",
            "  Downloading python_Levenshtein-0.20.9-py3-none-any.whl (9.4 kB)\n",
            "Collecting Levenshtein==0.20.9\n",
            "  Downloading Levenshtein-0.20.9-cp38-cp38-manylinux_2_17_x86_64.manylinux2014_x86_64.whl (174 kB)\n",
            "\u001b[K     |████████████████████████████████| 174 kB 8.5 MB/s \n",
            "\u001b[?25hCollecting rapidfuzz<3.0.0,>=2.3.0\n",
            "  Downloading rapidfuzz-2.13.7-cp38-cp38-manylinux_2_17_x86_64.manylinux2014_x86_64.whl (2.2 MB)\n",
            "\u001b[K     |████████████████████████████████| 2.2 MB 53.7 MB/s \n",
            "\u001b[?25hInstalling collected packages: rapidfuzz, Levenshtein, python-Levenshtein\n",
            "Successfully installed Levenshtein-0.20.9 python-Levenshtein-0.20.9 rapidfuzz-2.13.7\n"
          ]
        }
      ],
      "source": [
        "! pip install python-Levenshtein"
      ],
      "id": "whnGcNl-kLKV"
    },
    {
      "cell_type": "code",
      "execution_count": null,
      "metadata": {
        "colab": {
          "base_uri": "https://localhost:8080/"
        },
        "id": "LkAGzNZMl-0u",
        "outputId": "25d3bcb3-6adb-4714-fa8b-74b17ce4b856"
      },
      "outputs": [
        {
          "name": "stdout",
          "output_type": "stream",
          "text": [
            "Looking in indexes: https://pypi.org/simple, https://us-python.pkg.dev/colab-wheels/public/simple/\n",
            "Requirement already satisfied: kaggle in /usr/local/lib/python3.8/dist-packages (1.5.12)\n",
            "Requirement already satisfied: python-dateutil in /usr/local/lib/python3.8/dist-packages (from kaggle) (2.8.2)\n",
            "Requirement already satisfied: python-slugify in /usr/local/lib/python3.8/dist-packages (from kaggle) (7.0.0)\n",
            "Requirement already satisfied: tqdm in /usr/local/lib/python3.8/dist-packages (from kaggle) (4.64.1)\n",
            "Requirement already satisfied: certifi in /usr/local/lib/python3.8/dist-packages (from kaggle) (2022.12.7)\n",
            "Requirement already satisfied: requests in /usr/local/lib/python3.8/dist-packages (from kaggle) (2.23.0)\n",
            "Requirement already satisfied: six>=1.10 in /usr/local/lib/python3.8/dist-packages (from kaggle) (1.15.0)\n",
            "Requirement already satisfied: urllib3 in /usr/local/lib/python3.8/dist-packages (from kaggle) (1.24.3)\n",
            "Requirement already satisfied: text-unidecode>=1.3 in /usr/local/lib/python3.8/dist-packages (from python-slugify->kaggle) (1.3)\n",
            "Requirement already satisfied: idna<3,>=2.5 in /usr/local/lib/python3.8/dist-packages (from requests->kaggle) (2.10)\n",
            "Requirement already satisfied: chardet<4,>=3.0.2 in /usr/local/lib/python3.8/dist-packages (from requests->kaggle) (3.0.4)\n"
          ]
        }
      ],
      "source": [
        "! pip install kaggle"
      ],
      "id": "LkAGzNZMl-0u"
    },
    {
      "cell_type": "code",
      "execution_count": null,
      "metadata": {
        "colab": {
          "base_uri": "https://localhost:8080/"
        },
        "id": "KgMjNFJHo9Xj",
        "outputId": "15bc12e7-01df-4a52-8e76-a79368d52c8f"
      },
      "outputs": [
        {
          "name": "stdout",
          "output_type": "stream",
          "text": [
            "Looking in indexes: https://pypi.org/simple, https://us-python.pkg.dev/colab-wheels/public/simple/\n",
            "Collecting biopython\n",
            "  Downloading biopython-1.80-cp38-cp38-manylinux_2_17_x86_64.manylinux2014_x86_64.whl (3.1 MB)\n",
            "\u001b[K     |████████████████████████████████| 3.1 MB 6.8 MB/s \n",
            "\u001b[?25hRequirement already satisfied: numpy in /usr/local/lib/python3.8/dist-packages (from biopython) (1.21.6)\n",
            "Installing collected packages: biopython\n",
            "Successfully installed biopython-1.80\n"
          ]
        }
      ],
      "source": [
        "! pip install biopython"
      ],
      "id": "KgMjNFJHo9Xj"
    },
    {
      "cell_type": "code",
      "execution_count": null,
      "metadata": {
        "id": "d19e10c9"
      },
      "outputs": [],
      "source": [
        "# loading data\n",
        "from google.colab import files\n",
        "\n",
        "# data handling libraries\n",
        "import numpy as np\n",
        "import pandas as pd\n",
        "\n",
        "# visualisation packages\n",
        "import matplotlib.pyplot as plt\n",
        "import seaborn as sns \n",
        "\n",
        "# biotech packages\n",
        "from biopandas.pdb import PandasPdb\n",
        "import Levenshtein\n",
        "from Bio.SeqUtils.ProtParam import ProteinAnalysis\n",
        "from Bio.PDB import PDBParser\n",
        "from Bio.PDB.SASA import ShrakeRupley"
      ],
      "id": "d19e10c9"
    },
    {
      "cell_type": "markdown",
      "metadata": {
        "id": "fAWeM4qclkVp"
      },
      "source": [
        "# Load Data"
      ],
      "id": "fAWeM4qclkVp"
    },
    {
      "cell_type": "code",
      "execution_count": null,
      "metadata": {
        "colab": {
          "background_save": true,
          "base_uri": "https://localhost:8080/"
        },
        "id": "VxgZbOqNogqc",
        "outputId": "7b15abab-bdc0-4df5-b368-362acb8679b2"
      },
      "outputs": [
        {
          "data": {
            "text/html": [
              "\n",
              "     <input type=\"file\" id=\"files-25baab44-865b-4fc1-ac76-78cb4d347b57\" name=\"files[]\" multiple disabled\n",
              "        style=\"border:none\" />\n",
              "     <output id=\"result-25baab44-865b-4fc1-ac76-78cb4d347b57\">\n",
              "      Upload widget is only available when the cell has been executed in the\n",
              "      current browser session. Please rerun this cell to enable.\n",
              "      </output>\n",
              "      <script>// Copyright 2017 Google LLC\n",
              "//\n",
              "// Licensed under the Apache License, Version 2.0 (the \"License\");\n",
              "// you may not use this file except in compliance with the License.\n",
              "// You may obtain a copy of the License at\n",
              "//\n",
              "//      http://www.apache.org/licenses/LICENSE-2.0\n",
              "//\n",
              "// Unless required by applicable law or agreed to in writing, software\n",
              "// distributed under the License is distributed on an \"AS IS\" BASIS,\n",
              "// WITHOUT WARRANTIES OR CONDITIONS OF ANY KIND, either express or implied.\n",
              "// See the License for the specific language governing permissions and\n",
              "// limitations under the License.\n",
              "\n",
              "/**\n",
              " * @fileoverview Helpers for google.colab Python module.\n",
              " */\n",
              "(function(scope) {\n",
              "function span(text, styleAttributes = {}) {\n",
              "  const element = document.createElement('span');\n",
              "  element.textContent = text;\n",
              "  for (const key of Object.keys(styleAttributes)) {\n",
              "    element.style[key] = styleAttributes[key];\n",
              "  }\n",
              "  return element;\n",
              "}\n",
              "\n",
              "// Max number of bytes which will be uploaded at a time.\n",
              "const MAX_PAYLOAD_SIZE = 100 * 1024;\n",
              "\n",
              "function _uploadFiles(inputId, outputId) {\n",
              "  const steps = uploadFilesStep(inputId, outputId);\n",
              "  const outputElement = document.getElementById(outputId);\n",
              "  // Cache steps on the outputElement to make it available for the next call\n",
              "  // to uploadFilesContinue from Python.\n",
              "  outputElement.steps = steps;\n",
              "\n",
              "  return _uploadFilesContinue(outputId);\n",
              "}\n",
              "\n",
              "// This is roughly an async generator (not supported in the browser yet),\n",
              "// where there are multiple asynchronous steps and the Python side is going\n",
              "// to poll for completion of each step.\n",
              "// This uses a Promise to block the python side on completion of each step,\n",
              "// then passes the result of the previous step as the input to the next step.\n",
              "function _uploadFilesContinue(outputId) {\n",
              "  const outputElement = document.getElementById(outputId);\n",
              "  const steps = outputElement.steps;\n",
              "\n",
              "  const next = steps.next(outputElement.lastPromiseValue);\n",
              "  return Promise.resolve(next.value.promise).then((value) => {\n",
              "    // Cache the last promise value to make it available to the next\n",
              "    // step of the generator.\n",
              "    outputElement.lastPromiseValue = value;\n",
              "    return next.value.response;\n",
              "  });\n",
              "}\n",
              "\n",
              "/**\n",
              " * Generator function which is called between each async step of the upload\n",
              " * process.\n",
              " * @param {string} inputId Element ID of the input file picker element.\n",
              " * @param {string} outputId Element ID of the output display.\n",
              " * @return {!Iterable<!Object>} Iterable of next steps.\n",
              " */\n",
              "function* uploadFilesStep(inputId, outputId) {\n",
              "  const inputElement = document.getElementById(inputId);\n",
              "  inputElement.disabled = false;\n",
              "\n",
              "  const outputElement = document.getElementById(outputId);\n",
              "  outputElement.innerHTML = '';\n",
              "\n",
              "  const pickedPromise = new Promise((resolve) => {\n",
              "    inputElement.addEventListener('change', (e) => {\n",
              "      resolve(e.target.files);\n",
              "    });\n",
              "  });\n",
              "\n",
              "  const cancel = document.createElement('button');\n",
              "  inputElement.parentElement.appendChild(cancel);\n",
              "  cancel.textContent = 'Cancel upload';\n",
              "  const cancelPromise = new Promise((resolve) => {\n",
              "    cancel.onclick = () => {\n",
              "      resolve(null);\n",
              "    };\n",
              "  });\n",
              "\n",
              "  // Wait for the user to pick the files.\n",
              "  const files = yield {\n",
              "    promise: Promise.race([pickedPromise, cancelPromise]),\n",
              "    response: {\n",
              "      action: 'starting',\n",
              "    }\n",
              "  };\n",
              "\n",
              "  cancel.remove();\n",
              "\n",
              "  // Disable the input element since further picks are not allowed.\n",
              "  inputElement.disabled = true;\n",
              "\n",
              "  if (!files) {\n",
              "    return {\n",
              "      response: {\n",
              "        action: 'complete',\n",
              "      }\n",
              "    };\n",
              "  }\n",
              "\n",
              "  for (const file of files) {\n",
              "    const li = document.createElement('li');\n",
              "    li.append(span(file.name, {fontWeight: 'bold'}));\n",
              "    li.append(span(\n",
              "        `(${file.type || 'n/a'}) - ${file.size} bytes, ` +\n",
              "        `last modified: ${\n",
              "            file.lastModifiedDate ? file.lastModifiedDate.toLocaleDateString() :\n",
              "                                    'n/a'} - `));\n",
              "    const percent = span('0% done');\n",
              "    li.appendChild(percent);\n",
              "\n",
              "    outputElement.appendChild(li);\n",
              "\n",
              "    const fileDataPromise = new Promise((resolve) => {\n",
              "      const reader = new FileReader();\n",
              "      reader.onload = (e) => {\n",
              "        resolve(e.target.result);\n",
              "      };\n",
              "      reader.readAsArrayBuffer(file);\n",
              "    });\n",
              "    // Wait for the data to be ready.\n",
              "    let fileData = yield {\n",
              "      promise: fileDataPromise,\n",
              "      response: {\n",
              "        action: 'continue',\n",
              "      }\n",
              "    };\n",
              "\n",
              "    // Use a chunked sending to avoid message size limits. See b/62115660.\n",
              "    let position = 0;\n",
              "    do {\n",
              "      const length = Math.min(fileData.byteLength - position, MAX_PAYLOAD_SIZE);\n",
              "      const chunk = new Uint8Array(fileData, position, length);\n",
              "      position += length;\n",
              "\n",
              "      const base64 = btoa(String.fromCharCode.apply(null, chunk));\n",
              "      yield {\n",
              "        response: {\n",
              "          action: 'append',\n",
              "          file: file.name,\n",
              "          data: base64,\n",
              "        },\n",
              "      };\n",
              "\n",
              "      let percentDone = fileData.byteLength === 0 ?\n",
              "          100 :\n",
              "          Math.round((position / fileData.byteLength) * 100);\n",
              "      percent.textContent = `${percentDone}% done`;\n",
              "\n",
              "    } while (position < fileData.byteLength);\n",
              "  }\n",
              "\n",
              "  // All done.\n",
              "  yield {\n",
              "    response: {\n",
              "      action: 'complete',\n",
              "    }\n",
              "  };\n",
              "}\n",
              "\n",
              "scope.google = scope.google || {};\n",
              "scope.google.colab = scope.google.colab || {};\n",
              "scope.google.colab._files = {\n",
              "  _uploadFiles,\n",
              "  _uploadFilesContinue,\n",
              "};\n",
              "})(self);\n",
              "</script> "
            ],
            "text/plain": [
              "<IPython.core.display.HTML object>"
            ]
          },
          "metadata": {},
          "output_type": "display_data"
        }
      ],
      "source": [
        "files.upload()"
      ],
      "id": "VxgZbOqNogqc"
    },
    {
      "cell_type": "code",
      "execution_count": null,
      "metadata": {
        "id": "sFPnxLjIn7NN"
      },
      "outputs": [],
      "source": [
        "! mkdir ~/.kaggle\n",
        "! cp kaggle.json ~/.kaggle/"
      ],
      "id": "sFPnxLjIn7NN"
    },
    {
      "cell_type": "code",
      "execution_count": null,
      "metadata": {
        "id": "bpsfT23foVt1"
      },
      "outputs": [],
      "source": [
        "! chmod 600 ~/.kaggle/kaggle.json"
      ],
      "id": "bpsfT23foVt1"
    },
    {
      "cell_type": "code",
      "execution_count": null,
      "metadata": {
        "id": "PxfTuo9mlmdo"
      },
      "outputs": [],
      "source": [
        "! kaggle competitions download -c novozymes-enzyme-stability-prediction"
      ],
      "id": "PxfTuo9mlmdo"
    },
    {
      "cell_type": "code",
      "execution_count": null,
      "metadata": {
        "id": "tj5gHD1WpA9h"
      },
      "outputs": [],
      "source": [
        "! mkdir datasets"
      ],
      "id": "tj5gHD1WpA9h"
    },
    {
      "cell_type": "code",
      "execution_count": null,
      "metadata": {
        "id": "Qg_yfcFTpEZC"
      },
      "outputs": [],
      "source": [
        "! unzip novozymes-enzyme-stability-prediction.zip -d datasets"
      ],
      "id": "Qg_yfcFTpEZC"
    },
    {
      "cell_type": "markdown",
      "metadata": {
        "id": "qfDF3EPgo0G7"
      },
      "source": [
        "## Creating the DataFrame"
      ],
      "id": "qfDF3EPgo0G7"
    },
    {
      "cell_type": "code",
      "execution_count": null,
      "metadata": {
        "id": "T1Dw3MVToxVX"
      },
      "outputs": [],
      "source": [
        "df = pd.read_csv('/content/datasets/train.csv')"
      ],
      "id": "T1Dw3MVToxVX"
    },
    {
      "cell_type": "code",
      "execution_count": null,
      "metadata": {
        "id": "VnxPax_9pd6m"
      },
      "outputs": [],
      "source": [
        "df.head()"
      ],
      "id": "VnxPax_9pd6m"
    },
    {
      "cell_type": "markdown",
      "metadata": {
        "id": "O5V_1EgOpiRk"
      },
      "source": [
        "# EDA"
      ],
      "id": "O5V_1EgOpiRk"
    },
    {
      "cell_type": "code",
      "execution_count": null,
      "metadata": {
        "id": "m3MsKxMzp00J"
      },
      "outputs": [],
      "source": [
        "df.shape"
      ],
      "id": "m3MsKxMzp00J"
    },
    {
      "cell_type": "code",
      "execution_count": null,
      "metadata": {
        "id": "-WoawTiYpoJl"
      },
      "outputs": [],
      "source": [
        "df.columns"
      ],
      "id": "-WoawTiYpoJl"
    },
    {
      "cell_type": "code",
      "execution_count": null,
      "metadata": {
        "id": "0M9KoB90pq2E"
      },
      "outputs": [],
      "source": [
        "df.isnull().sum()"
      ],
      "id": "0M9KoB90pq2E"
    },
    {
      "cell_type": "code",
      "execution_count": null,
      "metadata": {
        "id": "wSHIuVmBujeD"
      },
      "outputs": [],
      "source": [
        "df['pH'].hist(bins=50)"
      ],
      "id": "wSHIuVmBujeD"
    },
    {
      "cell_type": "code",
      "execution_count": null,
      "metadata": {
        "id": "XeLDTQhgvi90"
      },
      "outputs": [],
      "source": [
        "# histogram ignoring the outliers\n",
        "vals = df[df['pH'] < 30]\n",
        "vals['pH'].hist()"
      ],
      "id": "XeLDTQhgvi90"
    },
    {
      "cell_type": "code",
      "execution_count": null,
      "metadata": {
        "id": "nC0Csfw2u6u1"
      },
      "outputs": [],
      "source": [
        "plt.scatter(df['pH'], df['tm'])\n",
        "plt.xlabel(\"pH\")\n",
        "plt.ylabel(\"tm\")\n",
        "plt.show()"
      ],
      "id": "nC0Csfw2u6u1"
    },
    {
      "cell_type": "code",
      "execution_count": null,
      "metadata": {
        "id": "pa-lcveNvUqu"
      },
      "outputs": [],
      "source": [
        "df['tm'].hist()"
      ],
      "id": "pa-lcveNvUqu"
    },
    {
      "cell_type": "markdown",
      "metadata": {
        "id": "kVuQrtplu5LH"
      },
      "source": [
        "#### pH values have some outliers\n",
        "#### Both pH and tm have an even distribution"
      ],
      "id": "kVuQrtplu5LH"
    },
    {
      "cell_type": "markdown",
      "metadata": {
        "id": "hKtsSJB7seBL"
      },
      "source": [
        "# Handling Missing Values"
      ],
      "id": "hKtsSJB7seBL"
    },
    {
      "cell_type": "markdown",
      "metadata": {
        "id": "uJ0KVy2bskMT"
      },
      "source": [
        "Drop Column - Data Source : Does not affect prediction"
      ],
      "id": "uJ0KVy2bskMT"
    },
    {
      "cell_type": "code",
      "execution_count": null,
      "metadata": {
        "id": "NNF9CiYdsyn0"
      },
      "outputs": [],
      "source": [
        "df.drop([\"data_source\"], inplace=True, axis=1)"
      ],
      "id": "NNF9CiYdsyn0"
    },
    {
      "cell_type": "markdown",
      "metadata": {
        "id": "vRsbssJLsqyX"
      },
      "source": [
        "Drop Rows - with missing pH values : Affects predictions"
      ],
      "id": "vRsbssJLsqyX"
    },
    {
      "cell_type": "code",
      "execution_count": null,
      "metadata": {
        "id": "vwNduXHJsdJ-"
      },
      "outputs": [],
      "source": [
        "df.dropna(axis=0, inplace=True)"
      ],
      "id": "vwNduXHJsdJ-"
    },
    {
      "cell_type": "code",
      "execution_count": null,
      "metadata": {
        "id": "w9-4mogeudgk"
      },
      "outputs": [],
      "source": [
        "df.isnull().sum()"
      ],
      "id": "w9-4mogeudgk"
    },
    {
      "cell_type": "code",
      "execution_count": null,
      "metadata": {
        "id": "C9EPG7hPwPqV"
      },
      "outputs": [],
      "source": [
        "df.head()"
      ],
      "id": "C9EPG7hPwPqV"
    },
    {
      "cell_type": "markdown",
      "metadata": {
        "id": "kO8Hos9EI6p2"
      },
      "source": [
        "# Feature Engineering"
      ],
      "id": "kO8Hos9EI6p2"
    },
    {
      "cell_type": "markdown",
      "metadata": {
        "id": "wEkosZ6mcpEy"
      },
      "source": [
        "Factors that affect thermal stabilization of proteins and enzymes -\n",
        "\n",
        "<br>\n",
        "\n",
        "## 1. Hydrophobicity\n",
        "\n",
        "> **The overall amount of hydrophobicity present in a particular protein is responsible for its thermostability.**\n",
        "\n",
        "Hydrophobic Interactions are important for the folding of proteins. This is important in keeping a protein stable and biologically active, because it allow to the protein to decrease in surface are and reduce the undesirable interactions with water.<br><br>\n",
        "\n",
        "<br>\n",
        "\n",
        "## 2. Protien, Amino acid charge & Fariás-Bonato ratio\n",
        "\n",
        "> **The Fariás-Bonato ratio determines levels of thermostability based on amino acid composition in protein sequences. Particularly, the increased number of charged residues (Glu+Lys) against the decreased number of polar residues (Gln+His) to create a ratio (Glu+Lys)/(Gln+His) which is used to identify thermostable proteins.**\n",
        "\n",
        "Charged to Uncharged Amino Acid Ratio helps determine the stability of an enzyme.\n",
        "Overall Protien Charge at pH=7, gives the overall Hydrogen donors and acceptors AA in the chain, which helps determine the stability of a protien sequence.<br><br>\n",
        "\n",
        "<br>\n",
        "\n",
        "## 3. Protein Flexibility\n",
        "\n",
        "> **Flexibility indices show that overall flexibility is reduced when thermostability is increased.**\n",
        "\n",
        "Protein molecules require both flexibility and rigidity to function, but the higher the temperature optimum and stability the more rigid is the structure needed to compensate for increased thermal fluctuations.\n",
        "\n",
        "<br>\n",
        "\n",
        "## 4. Ionic interactions\n",
        "*   **i. Isoelectrict point**<br>\n",
        "The isoelectric point (pI) of a protein is defined as the pH at which the net charge of a protein molecule is zero\n",
        "> Consequently, proteins are expected to be least soluble & most stable near their isoelectric points\n",
        "\n",
        "*   **ii. Molecular weight**\n",
        "\n",
        "*   **iii. Aromacity**<br>\n",
        "The presence of additional aromatic clusters near the active site should help in retaining the conformational features of the active sites residues required to bind the substrate at high temperatures and thus contributing to the high thermophilicity of the thermostable proteins.\n",
        "> The aromaticity value of a protein according to Lobry & Gautier is simply the relative frequency of Phe+Trp+Tyr.\n",
        "\n",
        "<br>\n",
        "\n",
        "## 5. Protein surface area \n",
        "> **It has been suggested that increased polar surface area contributes to the greater stability of the thermophilic proteins**\n",
        "\n",
        "We need special .pdb files to calculate the surface area of a protein \n",
        "\n",
        "<br>\n",
        "\n",
        "## 6. Amino acid percentages && SSF\n",
        "> **Percentage of individual amino acid can be used to analyse and predict the behaviour of a protien sequence**\n",
        "\n",
        "Further SSF - Secondary Structure Fraction can give a more comprehesive insight\n",
        "\n",
        "> SSF gives the percentage for 3 groups of AA\n",
        "*   Amino acids in helix: V, I, Y, F, W, L.\n",
        "*   Amino acids in turn: N, P, G, S.\n",
        "*   Amino acids in sheet: E, M, A, L.\n",
        "\n",
        "<br>\n",
        "\n",
        "## 7. Instability & GRAVY index\n",
        "\n",
        "**Instability** of a protien sequence here is calculated using Guruprasad et al. (1990, Protein Engineering, 4, 155-161). This method tests a protein for stability.\n",
        "\n",
        "> Any value above 40 means the protein is unstable.\n",
        "\n",
        "**GRAVY Index** indicates the hydrophobicity of the proteins, calculated by adding the hydropathy value for each residue and dividing by the length of the sequence\n",
        "\n",
        ">  Proteins with a GRAVY scores above 0 are more likely to be hydrophobic proteins"
      ],
      "id": "wEkosZ6mcpEy"
    },
    {
      "cell_type": "markdown",
      "metadata": {
        "id": "MQZndGWTJwVM"
      },
      "source": [
        "## Hydrophobicity "
      ],
      "id": "MQZndGWTJwVM"
    },
    {
      "cell_type": "markdown",
      "metadata": {
        "id": "DFvaX4NI4RD5"
      },
      "source": [
        "The overall amount of hydrophobicity affects the Thermostabality of the enzyme.\n",
        "The higher the Hydrophobicity the higher the thermostabality<br><br>\n",
        "Different Scales to measure Hydrophobicity -<br>\n",
        "1. Kyte-Doolittle\n",
        "2. Hopp-Woods\n",
        "3. Cornette\n",
        "4. Eisenberg\t\n",
        "5. Rose\n",
        "6. Janin\n",
        "7. Engelman GES<br><br>\n",
        "\n",
        "The protien wise Hydrophobicity for can be found here - [Hydrophobicity Chart](https://resources.qiagenbioinformatics.com/manuals/clcgenomicsworkbench/650/Hydrophobicity_scales.html)"
      ],
      "id": "DFvaX4NI4RD5"
    },
    {
      "cell_type": "code",
      "execution_count": null,
      "metadata": {
        "id": "n-5vQ81_I52-"
      },
      "outputs": [],
      "source": [
        "hydrophobicity_factors_url = 'https://resources.qiagenbioinformatics.com/manuals/clcgenomicsworkbench/650/Hydrophobicity_scales.html'\n",
        "hydrophobicity_factors_df = pd.read_html(\n",
        "    hydrophobicity_factors_url,\n",
        "    header=0,\n",
        "    skiprows=0\n",
        ")[0]\n",
        "\n",
        "hydrophobicity_factors_headers = ['aa', 'Amino Acid', 'Kyte-Doolittle', 'Hopp-Woods', 'Cornette', 'Eisenberg', 'Rose', 'Janin', 'Engelman GES']\n",
        "hydrophobicity_factors_df.columns = hydrophobicity_factors_headers\n",
        "hydrophobicity_factors_df.set_index('aa', drop=True, inplace=True)\n",
        "\n",
        "hydrophobicity_factors_df"
      ],
      "id": "n-5vQ81_I52-"
    },
    {
      "cell_type": "code",
      "execution_count": null,
      "metadata": {
        "id": "S8Pc_XAHPKBp"
      },
      "outputs": [],
      "source": [
        "def get_hydrophobicity_of_seq(seq, scale):\n",
        "  hy = 0\n",
        "  for each in seq:\n",
        "    hy += hydrophobicity_factors_df[scale][each]\n",
        "  \n",
        "  return hy/len(seq)"
      ],
      "id": "S8Pc_XAHPKBp"
    },
    {
      "cell_type": "code",
      "execution_count": null,
      "metadata": {
        "id": "USAY7Ma9PedZ"
      },
      "outputs": [],
      "source": [
        "for each in [ 'Kyte-Doolittle' , 'Hopp-Woods', 'Cornette', 'Eisenberg', 'Rose', 'Janin', 'Engelman GES']:\n",
        "  df[each] = df['protein_sequence'].apply(lambda x: get_hydrophobicity_of_seq(x, each))"
      ],
      "id": "USAY7Ma9PedZ"
    },
    {
      "cell_type": "code",
      "execution_count": null,
      "metadata": {
        "id": "k1kgP31PVMRc"
      },
      "outputs": [],
      "source": [
        "df.head()"
      ],
      "id": "k1kgP31PVMRc"
    },
    {
      "cell_type": "code",
      "execution_count": null,
      "metadata": {
        "id": "al7oWkGxXpHs"
      },
      "outputs": [],
      "source": [
        "df.to_csv('/content/Hydrophobicity.csv')"
      ],
      "id": "al7oWkGxXpHs"
    },
    {
      "cell_type": "code",
      "execution_count": null,
      "metadata": {
        "id": "AyScsSG-WIe_"
      },
      "outputs": [],
      "source": [
        "df = pd.read_csv('/content/Hydrophobicity.csv')\n",
        "df.drop('Unnamed: 0', axis=1, inplace=True)"
      ],
      "id": "AyScsSG-WIe_"
    },
    {
      "cell_type": "markdown",
      "metadata": {
        "id": "eOQCecvNoYXk"
      },
      "source": [
        "## Protein, Amino Acid Charge & Fariás-Bonato ratio"
      ],
      "id": "eOQCecvNoYXk"
    },
    {
      "cell_type": "code",
      "execution_count": null,
      "metadata": {
        "id": "jdchsRwku505"
      },
      "outputs": [],
      "source": [
        "# using Protien Analysis object to get insights into the protien sequence\n",
        "df['protein_analysis_obj'] = df['protein_sequence'].apply(lambda x:ProteinAnalysis(x))"
      ],
      "id": "jdchsRwku505"
    },
    {
      "cell_type": "code",
      "execution_count": null,
      "metadata": {
        "id": "XQUUt_2gvC8b"
      },
      "outputs": [],
      "source": [
        "# Getting overall charge of sequence at pH=7\n",
        "df['protein_charge_at_ph7'] = df['protein_analysis_obj'].apply(lambda x: round(x.charge_at_pH(pH=7),2))"
      ],
      "id": "XQUUt_2gvC8b"
    },
    {
      "cell_type": "code",
      "execution_count": null,
      "metadata": {
        "id": "K7XBa4is0-u8"
      },
      "outputs": [],
      "source": [
        "charged_aa = ['D', 'E', 'H', 'K', 'R']"
      ],
      "id": "K7XBa4is0-u8"
    },
    {
      "cell_type": "code",
      "execution_count": null,
      "metadata": {
        "id": "ilL7fGMq2rbq"
      },
      "outputs": [],
      "source": [
        "def get_charge_ratio(seq):\n",
        "  c = 0\n",
        "  for aa in seq:\n",
        "    if aa in charged_aa:\n",
        "      c+=1\n",
        "  \n",
        "  return c/(len(seq)-c)"
      ],
      "id": "ilL7fGMq2rbq"
    },
    {
      "cell_type": "code",
      "execution_count": null,
      "metadata": {
        "id": "go_KKYXDwxLv"
      },
      "outputs": [],
      "source": [
        "df['charge_ratio'] = df['protein_sequence'].apply(lambda x: get_charge_ratio(x))"
      ],
      "id": "go_KKYXDwxLv"
    },
    {
      "cell_type": "code",
      "execution_count": null,
      "metadata": {
        "id": "2VU57rGX4j2L"
      },
      "outputs": [],
      "source": [
        "def get_FB_ratio(seq):\n",
        "  e_k = 0\n",
        "  q_h = 0\n",
        "  for aa in seq:\n",
        "    if aa == 'E' or aa == 'K':\n",
        "      e_k += 1\n",
        "    elif aa == 'Q' or aa == 'H':\n",
        "      q_h += 1\n",
        "  \n",
        "  return e_k/q_h if q_h != 0 else 0"
      ],
      "id": "2VU57rGX4j2L"
    },
    {
      "cell_type": "code",
      "execution_count": null,
      "metadata": {
        "id": "xTEZduGP4fIZ"
      },
      "outputs": [],
      "source": [
        "df['Fariás-Bonato ratio'] = df['protein_sequence'].apply(lambda x: get_FB_ratio(x))"
      ],
      "id": "xTEZduGP4fIZ"
    },
    {
      "cell_type": "markdown",
      "metadata": {
        "id": "KssM_913gDZB"
      },
      "source": [
        "## Protein Flexibility"
      ],
      "id": "KssM_913gDZB"
    },
    {
      "cell_type": "code",
      "execution_count": null,
      "metadata": {
        "id": "hD3fByAzB0C3"
      },
      "outputs": [],
      "source": [
        "def get_amino_flexibility(seq_flex):\n",
        "  flex = sum(seq_flex)\n",
        "    \n",
        "  return flex"
      ],
      "id": "hD3fByAzB0C3"
    },
    {
      "cell_type": "code",
      "execution_count": null,
      "metadata": {
        "id": "sGXxaX62DnvF"
      },
      "outputs": [],
      "source": [
        "df['flex'] = df['protein_analysis_obj'].apply(lambda x: x.flexibility())"
      ],
      "id": "sGXxaX62DnvF"
    },
    {
      "cell_type": "code",
      "execution_count": null,
      "metadata": {
        "id": "UvRTENXjFp5Y"
      },
      "outputs": [],
      "source": [
        "df['flex'] = df['flex'].apply(lambda x: get_amino_flexibility(x))"
      ],
      "id": "UvRTENXjFp5Y"
    },
    {
      "cell_type": "code",
      "execution_count": null,
      "metadata": {
        "id": "gVbjJ4SVvK5O"
      },
      "outputs": [],
      "source": [
        "df.head()"
      ],
      "id": "gVbjJ4SVvK5O"
    },
    {
      "cell_type": "markdown",
      "metadata": {
        "id": "ymJDDBjV4Ek3"
      },
      "source": [
        "## Ionic Interaction"
      ],
      "id": "ymJDDBjV4Ek3"
    },
    {
      "cell_type": "code",
      "execution_count": null,
      "metadata": {
        "id": "6ou41I6WQE-y"
      },
      "outputs": [],
      "source": [
        "df['protein_isoelectric_point'] = df['protein_analysis_obj'].apply(lambda x: x.isoelectric_point())"
      ],
      "id": "6ou41I6WQE-y"
    },
    {
      "cell_type": "code",
      "execution_count": null,
      "metadata": {
        "id": "86acqGvnfXyA"
      },
      "outputs": [],
      "source": [
        "df['protein_molecular_weight'] = df['protein_analysis_obj'].apply(lambda x:x.molecular_weight())"
      ],
      "id": "86acqGvnfXyA"
    },
    {
      "cell_type": "code",
      "execution_count": null,
      "metadata": {
        "id": "qweJVOKUfZZ3"
      },
      "outputs": [],
      "source": [
        "df['protein_aromaticity'] = df['protein_analysis_obj'].apply(lambda x:x.aromaticity())"
      ],
      "id": "qweJVOKUfZZ3"
    },
    {
      "cell_type": "markdown",
      "metadata": {
        "id": "HegPSe97faFE"
      },
      "source": [
        "## Protein Surface Area"
      ],
      "id": "HegPSe97faFE"
    },
    {
      "cell_type": "markdown",
      "metadata": {
        "id": "g4VN5c3M8Cwc"
      },
      "source": [
        "Unable to calculate Protien Surface as Sequence pdb is not available in the dataset"
      ],
      "id": "g4VN5c3M8Cwc"
    },
    {
      "cell_type": "markdown",
      "metadata": {
        "id": "D-c1z2AOg-cJ"
      },
      "source": [
        "## Amino Acid Percentage"
      ],
      "id": "D-c1z2AOg-cJ"
    },
    {
      "cell_type": "code",
      "execution_count": null,
      "metadata": {
        "id": "F7ZeeDCptxLk"
      },
      "outputs": [],
      "source": [
        "def get_aa_percent(df):\n",
        "  aa_df = pd.DataFrame()\n",
        "  for i in df.index:\n",
        "    aa_per = df['protein_analysis_obj'][i].get_amino_acids_percent()\n",
        "    aa_per['seq_id'] = df['seq_id'][i]\n",
        "    aa_df = aa_df.append(aa_per, ignore_index=True)\n",
        "  \n",
        "  return aa_df"
      ],
      "id": "F7ZeeDCptxLk"
    },
    {
      "cell_type": "code",
      "execution_count": null,
      "metadata": {
        "id": "ok_DEO8dv6V8"
      },
      "outputs": [],
      "source": [
        "aa_df = get_aa_percent(df)\n",
        "aa_df.head()"
      ],
      "id": "ok_DEO8dv6V8"
    },
    {
      "cell_type": "code",
      "execution_count": null,
      "metadata": {
        "id": "oF88MBvIxA2L"
      },
      "outputs": [],
      "source": [
        "df = pd.merge(df, aa_df, how='inner', on='seq_id')\n",
        "df.head()"
      ],
      "id": "oF88MBvIxA2L"
    },
    {
      "cell_type": "markdown",
      "metadata": {
        "id": "asqrI17u8jCK"
      },
      "source": [
        "### Secondary structure fraction - Helix, Turn, Sheet"
      ],
      "id": "asqrI17u8jCK"
    },
    {
      "cell_type": "code",
      "execution_count": null,
      "metadata": {
        "id": "25qd2xqTysA4"
      },
      "outputs": [],
      "source": [
        "# see if required\n",
        "df['protein_analysis_obj'][0].secondary_structure_fraction()"
      ],
      "id": "25qd2xqTysA4"
    },
    {
      "cell_type": "code",
      "execution_count": null,
      "metadata": {
        "id": "kGIBa7WU8uVq"
      },
      "outputs": [],
      "source": [
        "def get_ssf_percent(df):\n",
        "  ssf_df = pd.DataFrame()\n",
        "  for i in df.index:\n",
        "    ssf = {}\n",
        "    ssf_tup = df['protein_analysis_obj'][i].secondary_structure_fraction()\n",
        "    ssf['seq_id'] = df['seq_id'][i]\n",
        "    ssf['Helix'] = ssf_tup[0]\n",
        "    ssf['Turn'] = ssf_tup[1]\n",
        "    ssf['Sheet'] = ssf_tup[2]\n",
        "    ssf_df = ssf_df.append(ssf, ignore_index=True)\n",
        "  \n",
        "  return ssf_df"
      ],
      "id": "kGIBa7WU8uVq"
    },
    {
      "cell_type": "code",
      "execution_count": null,
      "metadata": {
        "id": "-g9i1RNy0nwj"
      },
      "outputs": [],
      "source": [
        "ssf_df = get_ssf_percent(df)\n",
        "ssf_df.head()"
      ],
      "id": "-g9i1RNy0nwj"
    },
    {
      "cell_type": "code",
      "execution_count": null,
      "metadata": {
        "id": "-ofNgtvW27MG"
      },
      "outputs": [],
      "source": [
        "df = pd.merge(df, ssf_df, how='inner', on='seq_id')\n",
        "df.head()"
      ],
      "id": "-ofNgtvW27MG"
    },
    {
      "cell_type": "markdown",
      "metadata": {
        "id": "u0pa-kw_sF3Q"
      },
      "source": [
        "## Instability & GRAVY Index"
      ],
      "id": "u0pa-kw_sF3Q"
    },
    {
      "cell_type": "code",
      "execution_count": null,
      "metadata": {
        "id": "GZDgvQr9sJBU"
      },
      "outputs": [],
      "source": [
        "df['instability'] = df['protein_analysis_obj'].apply(lambda x: x.instability_index())"
      ],
      "id": "GZDgvQr9sJBU"
    },
    {
      "cell_type": "code",
      "execution_count": null,
      "metadata": {
        "id": "kZvo9JbozdGR"
      },
      "outputs": [],
      "source": [
        "df['protein_gravy_val'] = df['protein_analysis_obj'].apply(lambda x: x.gravy())"
      ],
      "id": "kZvo9JbozdGR"
    },
    {
      "cell_type": "code",
      "execution_count": null,
      "metadata": {
        "id": "ijAGPyomJZvu"
      },
      "outputs": [],
      "source": [
        "df.head()"
      ],
      "id": "ijAGPyomJZvu"
    },
    {
      "cell_type": "code",
      "execution_count": null,
      "metadata": {
        "id": "5LGiRhQ_9d7I"
      },
      "outputs": [],
      "source": [
        "df.to_csv('final_dataset.csv')"
      ],
      "id": "5LGiRhQ_9d7I"
    },
    {
      "cell_type": "markdown",
      "metadata": {
        "id": "ZkVe36AqxEFn"
      },
      "source": [
        "# Load Feature Engineered Dataset"
      ],
      "id": "ZkVe36AqxEFn"
    },
    {
      "cell_type": "code",
      "execution_count": null,
      "metadata": {
        "id": "1Nh0L6W-xKZ-"
      },
      "outputs": [],
      "source": [
        "df = pd.read_csv('/content/act_final_dataset.csv')"
      ],
      "id": "1Nh0L6W-xKZ-"
    },
    {
      "cell_type": "code",
      "execution_count": null,
      "metadata": {
        "id": "j7P8a8wrzhfW"
      },
      "outputs": [],
      "source": [
        "df.drop(['Unnamed: 0'], axis=1, inplace=True)"
      ],
      "id": "j7P8a8wrzhfW"
    },
    {
      "cell_type": "markdown",
      "metadata": {
        "id": "a3141948"
      },
      "source": [
        "# Correlations"
      ],
      "id": "a3141948"
    },
    {
      "cell_type": "code",
      "execution_count": null,
      "metadata": {
        "id": "BEaoOFPAJqUu"
      },
      "outputs": [],
      "source": [
        "len(df.columns)"
      ],
      "id": "BEaoOFPAJqUu"
    },
    {
      "cell_type": "code",
      "execution_count": null,
      "metadata": {
        "id": "d3eb8210"
      },
      "outputs": [],
      "source": [
        "df.columns"
      ],
      "id": "d3eb8210"
    },
    {
      "cell_type": "code",
      "execution_count": null,
      "metadata": {
        "id": "aa6a42ca"
      },
      "outputs": [],
      "source": [
        "meta_columns = [\n",
        "       'tm', 'pH', # pH\n",
        "       'protein_charge_at_ph7', 'charge_ratio', 'Fariás-Bonato ratio', # charge ratios\n",
        "       'flex', # flexibility\n",
        "       'protein_isoelectric_point', 'protein_molecular_weight', 'protein_aromaticity', # ionic properties\n",
        "       'instability', # instability\n",
        "       'protein_gravy_val', 'Kyte-Doolittle', 'Hopp-Woods', 'Cornette', # hydrophobicity\n",
        "       'Eisenberg', 'Rose', 'Janin', 'Engelman GES', # hydrophobicity\n",
        "       'Helix', 'Turn', 'Sheet' # composition percentages\n",
        "       ]\n",
        "\n",
        "meta_corr = df[meta_columns].corr()\n",
        "meta_corr.style.background_gradient(cmap='coolwarm', axis=None)"
      ],
      "id": "aa6a42ca"
    },
    {
      "cell_type": "code",
      "execution_count": null,
      "metadata": {
        "id": "H3gp8BF14BOH"
      },
      "outputs": [],
      "source": [
        "aa_corr = df[['tm', 'A', 'C', 'D', 'E', 'F', 'G', 'H', 'I', 'K', 'L',\n",
        "       'M', 'N', 'P', 'Q', 'R', 'S', 'T', 'V', 'W', 'Y']].corr()\n",
        "aa_corr.style.background_gradient(cmap='coolwarm', axis=None)"
      ],
      "id": "H3gp8BF14BOH"
    },
    {
      "cell_type": "markdown",
      "metadata": {
        "id": "tKi9xMzf7IEc"
      },
      "source": [
        "### Above plots Illustrate high multi colinearity between features"
      ],
      "id": "tKi9xMzf7IEc"
    },
    {
      "cell_type": "markdown",
      "metadata": {
        "id": "Ar65iGVSE7PG"
      },
      "source": [
        "# Reducing Multi Collinearity"
      ],
      "id": "Ar65iGVSE7PG"
    },
    {
      "cell_type": "code",
      "execution_count": null,
      "metadata": {
        "id": "orEucx6OHmaO"
      },
      "outputs": [],
      "source": [
        "df_p = df"
      ],
      "id": "orEucx6OHmaO"
    },
    {
      "cell_type": "markdown",
      "metadata": {
        "id": "ALXVNpT8FCyM"
      },
      "source": [
        "## Ionic Measures"
      ],
      "id": "ALXVNpT8FCyM"
    },
    {
      "cell_type": "code",
      "execution_count": null,
      "metadata": {
        "id": "Ld0oNh_0FWUY"
      },
      "outputs": [],
      "source": [
        "i_corr_cols = ['protein_isoelectric_point', 'protein_molecular_weight', 'protein_charge_at_ph7']\n",
        "\n",
        "i_corr = df_p[['tm']+i_corr_cols].corr()\n",
        "i_corr.style.background_gradient(cmap='coolwarm', axis=None)"
      ],
      "id": "Ld0oNh_0FWUY"
    },
    {
      "cell_type": "code",
      "execution_count": null,
      "metadata": {
        "id": "aaea03b8"
      },
      "outputs": [],
      "source": [
        "_, ax = plt.subplots(figsize=(20, 4))\n",
        "\n",
        "sns.heatmap(df_p[['seq_id']+i_corr_cols].set_index('seq_id', drop=True).T, cmap='coolwarm')\n",
        "plt.show()"
      ],
      "id": "aaea03b8"
    },
    {
      "cell_type": "markdown",
      "metadata": {
        "id": "RbDul42eGvYI"
      },
      "source": [
        "Since **protein_charge_at_ph7** is highly correlated to both **protein_molecular_weight & protein_isoelectric_point** & captures informaion similar to **protein_isoelectric_point**\n",
        "<br><br>\n",
        "We can drop **protein_charge_at_ph7**"
      ],
      "id": "RbDul42eGvYI"
    },
    {
      "cell_type": "code",
      "execution_count": null,
      "metadata": {
        "id": "PZI1nqmwHEJS"
      },
      "outputs": [],
      "source": [
        "df_p.drop(['protein_charge_at_ph7'], inplace=True, axis=1)"
      ],
      "id": "PZI1nqmwHEJS"
    },
    {
      "cell_type": "markdown",
      "metadata": {
        "id": "sEudqDSKH6ld"
      },
      "source": [
        "## Protein Composition Measures"
      ],
      "id": "sEudqDSKH6ld"
    },
    {
      "cell_type": "markdown",
      "metadata": {
        "id": "dXvMXBxKImRj"
      },
      "source": [
        "*   Amino acids in helix: V, I, Y, F, W, L.\n",
        "*   Amino acids in turn: N, P, G, S.\n",
        "*   Amino acids in sheet: E, M, A, L."
      ],
      "id": "dXvMXBxKImRj"
    },
    {
      "cell_type": "code",
      "execution_count": null,
      "metadata": {
        "id": "xxaMjeFZ2nqi"
      },
      "outputs": [],
      "source": [
        "pch_corr_cols = ['Helix', 'V', 'I', 'Y', 'F', 'W', 'L']\n",
        "\n",
        "pch_corr = df_p[['tm']+pch_corr_cols].corr()\n",
        "pch_corr.style.background_gradient(cmap='coolwarm', axis=None)"
      ],
      "id": "xxaMjeFZ2nqi"
    },
    {
      "cell_type": "code",
      "execution_count": null,
      "metadata": {
        "id": "KrnFxkrUI4GI"
      },
      "outputs": [],
      "source": [
        "pct_corr_cols = ['Turn', 'N', 'P', 'G', 'S']\n",
        "\n",
        "pct_corr = df_p[['tm']+pct_corr_cols].corr()\n",
        "pct_corr.style.background_gradient(cmap='coolwarm', axis=None)"
      ],
      "id": "KrnFxkrUI4GI"
    },
    {
      "cell_type": "code",
      "execution_count": null,
      "metadata": {
        "id": "C3fLCRFIJFZH"
      },
      "outputs": [],
      "source": [
        "pcs_corr_cols = ['Sheet', 'E', 'M', 'A', 'L']\n",
        "\n",
        "pcs_corr = df_p[['tm']+pcs_corr_cols].corr()\n",
        "pcs_corr.style.background_gradient(cmap='coolwarm', axis=None)"
      ],
      "id": "C3fLCRFIJFZH"
    },
    {
      "cell_type": "markdown",
      "metadata": {
        "id": "XulBkWjw7waV"
      },
      "source": [
        "Secondary Structure Fraction - **Helix, Turn, Sheet** gives similar insights as individual **AA percentages** with lesser dimentionality\n",
        "<br><br>\n",
        "Secondary Structure Fraction - **Helix, Turn, Sheet** also have higher correlation with the target variable **tm** than any individual **AA percentage**\n",
        "<br><br>\n",
        "We test the accuracy of the models before and after dropping **AA percentage columns**.\n",
        "The accuracy of the model reduces on dropping **AA percentage columns**.\n",
        "Therefore, here we trade off multicollinearity for performance and ** do not drop AA percentage columns and retain SSF columns**"
      ],
      "id": "XulBkWjw7waV"
    },
    {
      "cell_type": "code",
      "execution_count": null,
      "metadata": {
        "id": "ESNWzcc2KA5E"
      },
      "outputs": [],
      "source": [
        "# df_p.drop(['A', 'C', 'D', 'E', 'F', 'G', 'H', 'I', 'K', 'L', 'M', 'N', 'P', 'Q', 'R', 'S', 'T', 'V', 'W', 'Y'], inplace=True, axis=1)"
      ],
      "id": "ESNWzcc2KA5E"
    },
    {
      "cell_type": "markdown",
      "metadata": {
        "id": "s_QYRrpxKh72"
      },
      "source": [
        "## Hydrophobicity"
      ],
      "id": "s_QYRrpxKh72"
    },
    {
      "cell_type": "code",
      "execution_count": null,
      "metadata": {
        "id": "znhvp_QSKmop"
      },
      "outputs": [],
      "source": [
        "pchy_corr_cols = ['protein_gravy_val', 'Kyte-Doolittle', 'Hopp-Woods', 'Cornette', 'Eisenberg', 'Rose', 'Janin', 'Engelman GES',]\n",
        "\n",
        "pchy_corr = df_p[['tm']+pchy_corr_cols].corr()\n",
        "pchy_corr.style.background_gradient(cmap='coolwarm', axis=None)"
      ],
      "id": "znhvp_QSKmop"
    },
    {
      "cell_type": "markdown",
      "metadata": {
        "id": "epEg-YJxLHNg"
      },
      "source": [
        "Features **protein_gravy_val** and **Kyte-Doolittle** are perfectly co-related, therefore we can drop either\n",
        "<br><br>\n",
        "Dropping **Kyte-Doolittle**"
      ],
      "id": "epEg-YJxLHNg"
    },
    {
      "cell_type": "code",
      "execution_count": null,
      "metadata": {
        "id": "PEvZTR7ALFer"
      },
      "outputs": [],
      "source": [
        "df_p.drop(['Kyte-Doolittle'], axis=1, inplace=True)"
      ],
      "id": "PEvZTR7ALFer"
    },
    {
      "cell_type": "markdown",
      "metadata": {
        "id": "XrNkqu9IPVGl"
      },
      "source": [
        "Drop - **Engelman GES & Hopp-Woods** index, as they have very little correlation with the target feature **tm**"
      ],
      "id": "XrNkqu9IPVGl"
    },
    {
      "cell_type": "code",
      "execution_count": null,
      "metadata": {
        "id": "IvI1zMVQPjkB"
      },
      "outputs": [],
      "source": [
        "df_p.drop(['Engelman GES', 'Hopp-Woods'], axis=1, inplace=True)"
      ],
      "id": "IvI1zMVQPjkB"
    },
    {
      "cell_type": "code",
      "execution_count": null,
      "metadata": {
        "id": "jkBjN-oOP-RF"
      },
      "outputs": [],
      "source": [
        "pchy_corr_cols = ['Cornette', 'Eisenberg', 'Rose', 'Janin']\n",
        "\n",
        "pchy_corr = df_p[['tm']+pchy_corr_cols].corr()\n",
        "pchy_corr.style.background_gradient(cmap='coolwarm', axis=None)"
      ],
      "id": "jkBjN-oOP-RF"
    },
    {
      "cell_type": "markdown",
      "metadata": {
        "id": "QFrvBpWSOx6y"
      },
      "source": [
        "Creating a Feature - aggregate of **Eisenberg & Rose, Janin** indexes \n",
        "<br><br>\n",
        "Excluding **Cornette** as it has higher correlation with the target Feature **tm** and comperatively less correlation with other indexes"
      ],
      "id": "QFrvBpWSOx6y"
    },
    {
      "cell_type": "code",
      "execution_count": null,
      "metadata": {
        "id": "v7dZHnaPKl-Z"
      },
      "outputs": [],
      "source": [
        "df_p['erj_avg'] = df_p[['Eisenberg', 'Rose', 'Janin']].mean(axis=1)"
      ],
      "id": "v7dZHnaPKl-Z"
    },
    {
      "cell_type": "code",
      "execution_count": null,
      "metadata": {
        "id": "PMq7omj5Kltu"
      },
      "outputs": [],
      "source": [
        "df_p.corr()['erj_avg']['tm']"
      ],
      "id": "PMq7omj5Kltu"
    },
    {
      "cell_type": "code",
      "execution_count": null,
      "metadata": {
        "id": "FVZOm7wNRCGE"
      },
      "outputs": [],
      "source": [
        "pchy_corr_cols = ['Cornette', 'erj_avg']\n",
        "\n",
        "pchy_corr = df_p[['tm']+pchy_corr_cols].corr()\n",
        "pchy_corr.style.background_gradient(cmap='coolwarm', axis=None)"
      ],
      "id": "FVZOm7wNRCGE"
    },
    {
      "cell_type": "markdown",
      "metadata": {
        "id": "MZ56VIPTSHZ6"
      },
      "source": [
        "Drop the corresponding individual features - **Eisenberg, Rose & Janin**"
      ],
      "id": "MZ56VIPTSHZ6"
    },
    {
      "cell_type": "code",
      "execution_count": null,
      "metadata": {
        "id": "6ByzmMm9SWXE"
      },
      "outputs": [],
      "source": [
        "df_p.drop(['Eisenberg', 'Rose', 'Janin'], inplace=True, axis=1)"
      ],
      "id": "6ByzmMm9SWXE"
    },
    {
      "cell_type": "markdown",
      "metadata": {
        "id": "lWDHz_GoRPf_"
      },
      "source": [
        "## Final Overall Correlation"
      ],
      "id": "lWDHz_GoRPf_"
    },
    {
      "cell_type": "code",
      "execution_count": null,
      "metadata": {
        "id": "n6dyvdGDRXC0"
      },
      "outputs": [],
      "source": [
        "df_p.columns"
      ],
      "id": "n6dyvdGDRXC0"
    },
    {
      "cell_type": "code",
      "execution_count": null,
      "metadata": {
        "id": "GAYg4hqDRTXR"
      },
      "outputs": [],
      "source": [
        "meta_corr_cols = [\n",
        "       'tm', 'pH', # pH\n",
        "       'charge_ratio', 'Fariás-Bonato ratio', # charge ratios\n",
        "       'flex', # flexibility\n",
        "       'protein_isoelectric_point', 'protein_molecular_weight', 'protein_aromaticity', # ionic properties\n",
        "       'instability', # instability\n",
        "       'protein_gravy_val', 'Cornette', 'erj_avg', # hydrophobicity\n",
        "       'Helix', 'Turn', 'Sheet' # composition percentages,\n",
        "]\n",
        "\n",
        "meta_corr = df_p[meta_corr_cols].corr()\n",
        "meta_corr.style.background_gradient(cmap='coolwarm', axis=None)"
      ],
      "id": "GAYg4hqDRTXR"
    },
    {
      "cell_type": "code",
      "execution_count": null,
      "metadata": {
        "id": "xkYL78F-S-S7"
      },
      "outputs": [],
      "source": [
        "df_p.to_csv('dataset_wo_mc.csv')"
      ],
      "id": "xkYL78F-S-S7"
    },
    {
      "cell_type": "markdown",
      "metadata": {
        "id": "oI-WsLzADV9I"
      },
      "source": [
        "# Cleaning"
      ],
      "id": "oI-WsLzADV9I"
    },
    {
      "cell_type": "code",
      "execution_count": null,
      "metadata": {
        "id": "vJ2tYLjPDXzN"
      },
      "outputs": [],
      "source": [
        "df_c = df_p"
      ],
      "id": "vJ2tYLjPDXzN"
    },
    {
      "cell_type": "code",
      "execution_count": null,
      "metadata": {
        "id": "TFj3CQNmDmXr"
      },
      "outputs": [],
      "source": [
        "# remove unncesarry columns\n",
        "df_c.drop(['protein_sequence', 'protein_analysis_obj'], inplace=True, axis=1)"
      ],
      "id": "TFj3CQNmDmXr"
    },
    {
      "cell_type": "markdown",
      "metadata": {
        "id": "6ue-iovTIIsP"
      },
      "source": [
        "## Outlier Handling"
      ],
      "id": "6ue-iovTIIsP"
    },
    {
      "cell_type": "code",
      "execution_count": null,
      "metadata": {
        "id": "R1wBxMTvHIVe"
      },
      "outputs": [],
      "source": [
        "#check outliers in pH\n",
        "fig = plt.figure(figsize=[15,4])\n",
        "plt.subplot(1,2,1)\n",
        "sns.boxplot(x='pH', data=df_c)\n",
        "\n",
        "\n",
        "plt.subplot(1,2,2)\n",
        "sns.histplot(x='pH', data=df_c)\n",
        "plt.show()"
      ],
      "id": "R1wBxMTvHIVe"
    },
    {
      "cell_type": "code",
      "execution_count": null,
      "metadata": {
        "id": "59ifbDSNHjMC"
      },
      "outputs": [],
      "source": [
        "perc_95=np.percentile(df_c['pH'], 95)"
      ],
      "id": "59ifbDSNHjMC"
    },
    {
      "cell_type": "code",
      "execution_count": null,
      "metadata": {
        "id": "lkyl5VuZHqvt"
      },
      "outputs": [],
      "source": [
        "too_large = df[\"pH\"] > perc_95\n",
        "\n",
        "drop_indexes = df_c[too_large].index.values\n",
        "\n",
        "df_c.drop(index=drop_indexes, inplace = True)"
      ],
      "id": "lkyl5VuZHqvt"
    },
    {
      "cell_type": "code",
      "execution_count": null,
      "metadata": {
        "id": "GNOc4NLJI6Et"
      },
      "outputs": [],
      "source": [
        "# cleaned pH\n",
        "fig = plt.figure(figsize=[15,4])\n",
        "plt.subplot(1,2,1)\n",
        "sns.boxplot(x='pH', data=df_c)\n",
        "\n",
        "\n",
        "plt.subplot(1,2,2)\n",
        "sns.histplot(x='pH', data=df_c)\n",
        "plt.show()"
      ],
      "id": "GNOc4NLJI6Et"
    },
    {
      "cell_type": "code",
      "execution_count": null,
      "metadata": {
        "id": "z-64SGP8PQ8e"
      },
      "outputs": [],
      "source": [
        "plt.scatter(df_c['pH'], df_c['tm'])"
      ],
      "id": "z-64SGP8PQ8e"
    },
    {
      "cell_type": "markdown",
      "metadata": {
        "id": "0fVzTi3CKntD"
      },
      "source": [
        "## Final Data Distribution"
      ],
      "id": "0fVzTi3CKntD"
    },
    {
      "cell_type": "code",
      "execution_count": null,
      "metadata": {
        "id": "8xE6jfwnUMW1"
      },
      "outputs": [],
      "source": [
        "fig = plt.figure(figsize=(20,20))\n",
        "ax = fig.gca()\n",
        "df_c.hist(ax=ax)\n",
        "plt.show()"
      ],
      "id": "8xE6jfwnUMW1"
    },
    {
      "cell_type": "code",
      "execution_count": null,
      "metadata": {
        "id": "ocGFdTLWAjq7"
      },
      "outputs": [],
      "source": [
        "plt.scatter(df_c['pH'], df_c['tm'], c=df_c['protein_isoelectric_point'])"
      ],
      "id": "ocGFdTLWAjq7"
    },
    {
      "cell_type": "code",
      "execution_count": null,
      "metadata": {
        "id": "SgzCPGAAA4-a"
      },
      "outputs": [],
      "source": [
        "plt.scatter(df_c['pH'], df_c['tm'], c=df_c['instability'])"
      ],
      "id": "SgzCPGAAA4-a"
    },
    {
      "cell_type": "code",
      "execution_count": null,
      "metadata": {
        "id": "H0nn1cGJBImB"
      },
      "outputs": [],
      "source": [
        "plt.scatter(df_c['pH'], df_c['tm'], c=df_c['protein_aromaticity'])"
      ],
      "id": "H0nn1cGJBImB"
    },
    {
      "cell_type": "code",
      "execution_count": null,
      "metadata": {
        "id": "a5Jir0MOUkOn"
      },
      "outputs": [],
      "source": [
        "df_c.to_csv('Cleaned_dataset.csv')"
      ],
      "id": "a5Jir0MOUkOn"
    },
    {
      "cell_type": "code",
      "execution_count": null,
      "metadata": {
        "id": "sGPKYXlW9vqP"
      },
      "outputs": [],
      "source": [
        "df_c = pd.read_csv('/content/Cleaned_Dataset_fin.csv')\n",
        "df_c.drop(['Unnamed: 0'], axis=1, inplace=True)"
      ],
      "id": "sGPKYXlW9vqP"
    },
    {
      "cell_type": "markdown",
      "metadata": {
        "id": "bn5wbQbFEPmh"
      },
      "source": [
        "# Train & Test Split"
      ],
      "id": "bn5wbQbFEPmh"
    },
    {
      "cell_type": "code",
      "execution_count": null,
      "metadata": {
        "id": "5IyjQeoZEtdH"
      },
      "outputs": [],
      "source": [
        "from sklearn.model_selection import train_test_split"
      ],
      "id": "5IyjQeoZEtdH"
    },
    {
      "cell_type": "code",
      "execution_count": null,
      "metadata": {
        "id": "cZsrAKOmETs3"
      },
      "outputs": [],
      "source": [
        "X_cols = [x for x in df_c.columns if x != 'tm']\n",
        "y_col = ['tm']"
      ],
      "id": "cZsrAKOmETs3"
    },
    {
      "cell_type": "code",
      "execution_count": null,
      "metadata": {
        "id": "JDfQx1EdEecg"
      },
      "outputs": [],
      "source": [
        "X = df_c[X_cols]\n",
        "y = df_c[y_col]"
      ],
      "id": "JDfQx1EdEecg"
    },
    {
      "cell_type": "code",
      "execution_count": null,
      "metadata": {
        "id": "QyD0Dz2MEtFt"
      },
      "outputs": [],
      "source": [
        "X_train, X_test, y_train, y_test = train_test_split(X, y, test_size=0.3)"
      ],
      "id": "QyD0Dz2MEtFt"
    },
    {
      "cell_type": "markdown",
      "metadata": {
        "id": "IGWPVPnk7OzC"
      },
      "source": [
        "# Scaling and Standardisation"
      ],
      "id": "IGWPVPnk7OzC"
    },
    {
      "cell_type": "code",
      "execution_count": null,
      "metadata": {
        "id": "505K7uY2C9V-"
      },
      "outputs": [],
      "source": [
        "from sklearn.preprocessing import StandardScaler"
      ],
      "id": "505K7uY2C9V-"
    },
    {
      "cell_type": "code",
      "execution_count": null,
      "metadata": {
        "id": "F4XW0Dx4CjB4"
      },
      "outputs": [],
      "source": [
        "X.head()"
      ],
      "id": "F4XW0Dx4CjB4"
    },
    {
      "cell_type": "code",
      "execution_count": null,
      "metadata": {
        "id": "5bab6584"
      },
      "outputs": [],
      "source": [
        "X.columns"
      ],
      "id": "5bab6584"
    },
    {
      "cell_type": "markdown",
      "metadata": {
        "id": "Hyi8v1LlCYsW"
      },
      "source": [
        "Some Features range between 0 to 1 while others range from 0 to hunderds & thousands.<br>\n",
        "Some Features even have negative values.\n",
        "<br><br>\n",
        "Therefore we nee to perform Scalign on the Features."
      ],
      "id": "Hyi8v1LlCYsW"
    },
    {
      "cell_type": "code",
      "execution_count": null,
      "metadata": {
        "id": "99_aXPuzCYUc"
      },
      "outputs": [],
      "source": [
        "# Initialise the Scaler\n",
        "scaler = StandardScaler()\n",
        " \n",
        "# To scale data\n",
        "scaler.fit(X_train)"
      ],
      "id": "99_aXPuzCYUc"
    },
    {
      "cell_type": "code",
      "execution_count": null,
      "metadata": {
        "id": "_HKXt50AD2Ex"
      },
      "outputs": [],
      "source": [
        "X_train = scaler.transform(X_train)\n",
        "X_test = scaler.transform(X_test)"
      ],
      "id": "_HKXt50AD2Ex"
    },
    {
      "cell_type": "code",
      "execution_count": null,
      "metadata": {
        "id": "w5psAq1xFRxC"
      },
      "outputs": [],
      "source": [
        "X_train[0]"
      ],
      "id": "w5psAq1xFRxC"
    },
    {
      "cell_type": "code",
      "execution_count": null,
      "metadata": {
        "id": "ID2SatB8FdGw"
      },
      "outputs": [],
      "source": [
        "X_test[0]"
      ],
      "id": "ID2SatB8FdGw"
    },
    {
      "cell_type": "code",
      "execution_count": null,
      "metadata": {
        "id": "b-aTOqsvFxj8"
      },
      "outputs": [],
      "source": [
        "fig = plt.figure(figsize=(20,20))\n",
        "ax = fig.gca()\n",
        "X[[x for x in X.columns if x not in ['A', 'C', 'D', 'E', 'F', 'G', 'H', 'I', 'K',\n",
        "       'L', 'M', 'N', 'P', 'Q', 'R', 'S', 'T', 'V', 'W', 'Y']]].hist(ax=ax)\n",
        "plt.title(\"Scaled Features Distribution\")\n",
        "plt.show()"
      ],
      "id": "b-aTOqsvFxj8"
    },
    {
      "cell_type": "markdown",
      "metadata": {
        "id": "LDLzpuLuJXzO"
      },
      "source": [
        "Features **flex** (Protien Flexibility) and **protein_molecular_weight** (Molecular Weight) are slightly skewed"
      ],
      "id": "LDLzpuLuJXzO"
    },
    {
      "cell_type": "markdown",
      "metadata": {
        "id": "Ogy806ZX7Yxd"
      },
      "source": [
        "# Linear Regression"
      ],
      "id": "Ogy806ZX7Yxd"
    },
    {
      "cell_type": "code",
      "execution_count": null,
      "metadata": {
        "id": "ADWN1FA57mTQ"
      },
      "outputs": [],
      "source": [
        "from sklearn.linear_model import LinearRegression"
      ],
      "id": "ADWN1FA57mTQ"
    },
    {
      "cell_type": "code",
      "execution_count": null,
      "metadata": {
        "id": "bypZjPNtKESc"
      },
      "outputs": [],
      "source": [
        "reg = LinearRegression()"
      ],
      "id": "bypZjPNtKESc"
    },
    {
      "cell_type": "code",
      "execution_count": null,
      "metadata": {
        "id": "Px6fnZOVJ6np"
      },
      "outputs": [],
      "source": [
        "reg.fit(X_train,y_train)"
      ],
      "id": "Px6fnZOVJ6np"
    },
    {
      "cell_type": "markdown",
      "metadata": {
        "id": "jslmVnm7KYrz"
      },
      "source": [
        "## Evaluation"
      ],
      "id": "jslmVnm7KYrz"
    },
    {
      "cell_type": "code",
      "execution_count": null,
      "metadata": {
        "id": "gCpOH8-aKl6E"
      },
      "outputs": [],
      "source": [
        "from sklearn.metrics import r2_score"
      ],
      "id": "gCpOH8-aKl6E"
    },
    {
      "cell_type": "code",
      "execution_count": null,
      "metadata": {
        "id": "KiRq8THtKIfs"
      },
      "outputs": [],
      "source": [
        "lr_trainp = reg.predict(X_train)\n",
        "lr_pred = reg.predict(X_test)"
      ],
      "id": "KiRq8THtKIfs"
    },
    {
      "cell_type": "code",
      "execution_count": null,
      "metadata": {
        "id": "O3kyUU4CCchd"
      },
      "outputs": [],
      "source": [
        "train_acc_lr = r2_score(y_train, lr_trainp)\n",
        "test_acc_lr = r2_score(y_test, lr_pred)\n",
        "overfit_lr = train_acc_lr - test_acc_lr"
      ],
      "id": "O3kyUU4CCchd"
    },
    {
      "cell_type": "code",
      "execution_count": null,
      "metadata": {
        "id": "RcrY4LcAKtCd"
      },
      "outputs": [],
      "source": [
        "print(\"Train Accuracy (%): \", train_acc_lr*100)\n",
        "print(\"Test Accuracy (%): \", test_acc_lr*100)\n",
        "print(\"Overfitting (%): \", overfit_lr*100)"
      ],
      "id": "RcrY4LcAKtCd"
    },
    {
      "cell_type": "markdown",
      "metadata": {
        "id": "9UQ9LNLe7m86"
      },
      "source": [
        "# Lasso Regression"
      ],
      "id": "9UQ9LNLe7m86"
    },
    {
      "cell_type": "code",
      "execution_count": null,
      "metadata": {
        "id": "6tWpaI_M7qwj"
      },
      "outputs": [],
      "source": [
        "from sklearn.linear_model import Lasso"
      ],
      "id": "6tWpaI_M7qwj"
    },
    {
      "cell_type": "code",
      "execution_count": null,
      "metadata": {
        "id": "ua7k3Kp_MOZT"
      },
      "outputs": [],
      "source": [
        "model = Lasso(alpha=0.01)"
      ],
      "id": "ua7k3Kp_MOZT"
    },
    {
      "cell_type": "code",
      "execution_count": null,
      "metadata": {
        "id": "qM3-K0CqMa6F"
      },
      "outputs": [],
      "source": [
        "model.fit(X_train, y_train)"
      ],
      "id": "qM3-K0CqMa6F"
    },
    {
      "cell_type": "markdown",
      "metadata": {
        "id": "sEQhuxlvNo3H"
      },
      "source": [
        "## Evaluation"
      ],
      "id": "sEQhuxlvNo3H"
    },
    {
      "cell_type": "code",
      "execution_count": null,
      "metadata": {
        "id": "ut_-EHUwMapX"
      },
      "outputs": [],
      "source": [
        "lsr_trainp = model.predict(X_train)\n",
        "lsr_pred = model.predict(X_test)"
      ],
      "id": "ut_-EHUwMapX"
    },
    {
      "cell_type": "code",
      "execution_count": null,
      "metadata": {
        "id": "0L8BpRIZMamC"
      },
      "outputs": [],
      "source": [
        "train_acc_lsr = r2_score(y_train, lsr_trainp)\n",
        "test_acc_lsr = r2_score(y_test, lsr_pred)\n",
        "overfit_lsr = train_acc_lsr - test_acc_lsr"
      ],
      "id": "0L8BpRIZMamC"
    },
    {
      "cell_type": "code",
      "execution_count": null,
      "metadata": {
        "id": "npaIe0mgLme7"
      },
      "outputs": [],
      "source": [
        "print(\"Train Accuracy (%): \", train_acc_lsr*100)\n",
        "print(\"Test Accuracy (%): \", test_acc_lsr*100)\n",
        "print(\"Overfitting (%): \", overfit_lsr*100)"
      ],
      "id": "npaIe0mgLme7"
    },
    {
      "cell_type": "markdown",
      "metadata": {
        "id": "_QAESh6-cUh8"
      },
      "source": [
        "# LGBM Regressor"
      ],
      "id": "_QAESh6-cUh8"
    },
    {
      "cell_type": "code",
      "execution_count": null,
      "metadata": {
        "id": "AmSrt6ORcYZ7"
      },
      "outputs": [],
      "source": [
        "from lightgbm import LGBMRegressor"
      ],
      "id": "AmSrt6ORcYZ7"
    },
    {
      "cell_type": "code",
      "execution_count": null,
      "metadata": {
        "id": "Z3aVQsNccZo-"
      },
      "outputs": [],
      "source": [
        "model_lgb = LGBMRegressor(n_estimators = 250, \n",
        "                              learning_rate = 0.01,\n",
        "                              num_leaves = 31,\n",
        "                              max_depth = 5, \n",
        "                              reg_alpha = 1, \n",
        "                              reg_lambda = 5, \n",
        "                              subsample = 0.75,\n",
        "                              colsample_bytree = 0.55)"
      ],
      "id": "Z3aVQsNccZo-"
    },
    {
      "cell_type": "code",
      "execution_count": null,
      "metadata": {
        "id": "CKusOyjScd12"
      },
      "outputs": [],
      "source": [
        "model_lgb.fit(X_train, y_train)"
      ],
      "id": "CKusOyjScd12"
    },
    {
      "cell_type": "markdown",
      "metadata": {
        "id": "vi-8fEPqcxPX"
      },
      "source": [
        "## Evaluation"
      ],
      "id": "vi-8fEPqcxPX"
    },
    {
      "cell_type": "code",
      "execution_count": null,
      "metadata": {
        "id": "_Nmn41z6cs5w"
      },
      "outputs": [],
      "source": [
        "lgb_trainp = model_lgb.predict(X_train)\n",
        "lgb_pred = model_lgb.predict(X_test)"
      ],
      "id": "_Nmn41z6cs5w"
    },
    {
      "cell_type": "code",
      "execution_count": null,
      "metadata": {
        "id": "v_5Iq4HMcy-S"
      },
      "outputs": [],
      "source": [
        "train_acc_lgb = r2_score(y_train, lgb_trainp)\n",
        "test_acc_lgb = r2_score(y_test, lgb_pred)\n",
        "overfit_lgb = train_acc_lgb - test_acc_lgb"
      ],
      "id": "v_5Iq4HMcy-S"
    },
    {
      "cell_type": "code",
      "execution_count": null,
      "metadata": {
        "id": "MDijVizuMGAM"
      },
      "outputs": [],
      "source": [
        "print(\"Train Accuracy (%): \", train_acc_lgb*100)\n",
        "print(\"Test Accuracy (%): \", test_acc_lgb*100)\n",
        "print(\"Overfitting (%): \", overfit_lgb*100)"
      ],
      "id": "MDijVizuMGAM"
    },
    {
      "cell_type": "markdown",
      "metadata": {
        "id": "XJvRHdv37rjV"
      },
      "source": [
        "# Random Forest Regressor"
      ],
      "id": "XJvRHdv37rjV"
    },
    {
      "cell_type": "code",
      "execution_count": null,
      "metadata": {
        "id": "41Kzhct27uLl"
      },
      "outputs": [],
      "source": [
        "from sklearn.ensemble import RandomForestRegressor"
      ],
      "id": "41Kzhct27uLl"
    },
    {
      "cell_type": "code",
      "execution_count": null,
      "metadata": {
        "id": "Z0IbxEb5LFWl"
      },
      "outputs": [],
      "source": [
        "regr = RandomForestRegressor(n_jobs=2,bootstrap=True)"
      ],
      "id": "Z0IbxEb5LFWl"
    },
    {
      "cell_type": "code",
      "execution_count": null,
      "metadata": {
        "id": "HL6F1QmVLG0Y"
      },
      "outputs": [],
      "source": [
        "regr.fit(X_train,y_train)"
      ],
      "id": "HL6F1QmVLG0Y"
    },
    {
      "cell_type": "markdown",
      "metadata": {
        "id": "zsbgPrNR7wb6"
      },
      "source": [
        "## Evaluation"
      ],
      "id": "zsbgPrNR7wb6"
    },
    {
      "cell_type": "code",
      "execution_count": null,
      "metadata": {
        "id": "Mwlo86k-LUCr"
      },
      "outputs": [],
      "source": [
        "rf_trainp = regr.predict(X_train)\n",
        "rf_pred = regr.predict(X_test)"
      ],
      "id": "Mwlo86k-LUCr"
    },
    {
      "cell_type": "code",
      "execution_count": null,
      "metadata": {
        "id": "ijuB4XBWM07T"
      },
      "outputs": [],
      "source": [
        "train_acc_rf = r2_score(y_train, rf_trainp)\n",
        "test_acc_rf = r2_score(y_test, rf_pred)\n",
        "overfit_rf = train_acc_rf - test_acc_rf"
      ],
      "id": "ijuB4XBWM07T"
    },
    {
      "cell_type": "code",
      "execution_count": null,
      "metadata": {
        "id": "x8HYwqpSNGFu"
      },
      "outputs": [],
      "source": [
        "print(\"Train Accuracy (%): \", train_acc_rf*100)\n",
        "print(\"Test Accuracy (%): \", test_acc_rf*100)\n",
        "print(\"Overfitting (%): \", overfit_rf*100)"
      ],
      "id": "x8HYwqpSNGFu"
    },
    {
      "cell_type": "markdown",
      "metadata": {
        "id": "z_WH531pNPyO"
      },
      "source": [
        "#### We can notice some Overfitting when using the Random Forest Regressor"
      ],
      "id": "z_WH531pNPyO"
    },
    {
      "cell_type": "markdown",
      "metadata": {
        "id": "Cfx4chnWbsUx"
      },
      "source": [
        "# Conclusion\n",
        "1. We were able to add Features to the dataset using domain knowledge and bio tech packages available in python.<br><br>\n",
        "2. We tackled High Multicollinearity by performing Feature Selection and combining similar features.<br><br>\n",
        "3. We cleaned the data set by Dropping Redundant or Irrelevant columns and Removing Outliers.<br><br>\n",
        "4. We used StandardScaler to Scale our Features to account for varying ranges of different features.<br><br>\n",
        "5. We implemented Linear Regression to establish a baseline of performance of model. We observed that Linear Regression gave an Accuracy of 25% (approx.).<br><br>\n",
        "6. We implemented Lasso Regression to combat the Multicollinearity in the dataset and improve the performance of our model. We observed that Lasso Regression gave an Accuracy of 25% (approx.).<br><br>\n",
        "7. We implemented Light Gradient Boosting Machine (LGBM) Regression, a tree based learning algorithm, to further improve the performance of our model. We observed that LGBM Regression gave an Accuracy of 50% (approx.).<br><br>\n",
        "8. We implemented Random Forest Regression, another tree based learning algorithm. This model gave us the best performance over other models. We observed that Random Forest Regression gave an Accuracy of 56% (approx.). But there is noticeable overfitting when using a Random Forest Regression."
      ],
      "id": "Cfx4chnWbsUx"
    }
  ],
  "metadata": {
    "colab": {
      "collapsed_sections": [
        "PRIoHlj_cm4X",
        "fAWeM4qclkVp",
        "O5V_1EgOpiRk",
        "hKtsSJB7seBL",
        "kO8Hos9EI6p2",
        "MQZndGWTJwVM",
        "eOQCecvNoYXk",
        "KssM_913gDZB",
        "ymJDDBjV4Ek3",
        "HegPSe97faFE",
        "D-c1z2AOg-cJ",
        "asqrI17u8jCK",
        "u0pa-kw_sF3Q",
        "ZkVe36AqxEFn",
        "a3141948",
        "ALXVNpT8FCyM",
        "sEudqDSKH6ld",
        "s_QYRrpxKh72",
        "lWDHz_GoRPf_",
        "oI-WsLzADV9I",
        "6ue-iovTIIsP",
        "0fVzTi3CKntD",
        "bn5wbQbFEPmh",
        "IGWPVPnk7OzC",
        "Ogy806ZX7Yxd",
        "9UQ9LNLe7m86",
        "_QAESh6-cUh8",
        "XJvRHdv37rjV"
      ],
      "provenance": []
    },
    "kernelspec": {
      "display_name": "Python 3",
      "language": "python",
      "name": "python3"
    },
    "language_info": {
      "codemirror_mode": {
        "name": "ipython",
        "version": 3
      },
      "file_extension": ".py",
      "mimetype": "text/x-python",
      "name": "python",
      "nbconvert_exporter": "python",
      "pygments_lexer": "ipython3",
      "version": "3.7.12"
    },
    "papermill": {
      "default_parameters": {},
      "duration": 47.625326,
      "end_time": "2022-10-16T11:40:26.948397",
      "environment_variables": {},
      "exception": null,
      "input_path": "__notebook__.ipynb",
      "output_path": "__notebook__.ipynb",
      "parameters": {},
      "start_time": "2022-10-16T11:39:39.323071",
      "version": "2.3.4"
    }
  },
  "nbformat": 4,
  "nbformat_minor": 5
}